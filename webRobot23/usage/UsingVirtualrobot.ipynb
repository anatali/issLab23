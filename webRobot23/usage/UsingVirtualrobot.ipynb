{
 "cells": [
  {
   "cell_type": "markdown",
   "metadata": {
    "slideshow": {
     "slide_type": "subslide"
    }
   },
   "source": [
    "# Using the virtualrobot \n",
    "\n",
    "We interact with the virtualcrobot activad by calling webbasicrobot23.yaml "
   ]
  },
  {
   "cell_type": "code",
   "execution_count": null,
   "metadata": {},
   "outputs": [],
   "source": [
    "python3 --version"
   ]
  },
  {
   "cell_type": "code",
   "execution_count": 4,
   "metadata": {},
   "outputs": [
    {
     "name": "stdout",
     "output_type": "stream",
     "text": [
      "STARTING ... \n",
      "Received '{\"endmove\":\"true\",\"move\":\"moveForward\"}'\n"
     ]
    }
   ],
   "source": [
    "##############################################################\n",
    "# conda install -c conda-forge websockets (done in base)\n",
    "##############################################################\n",
    " \n",
    "import websocket\n",
    "from websocket import create_connection\n",
    " \n",
    "\n",
    "#from websockets.sync.client import connect\n",
    "\n",
    "### websocket = new WebSocket(\"ws://localhost:8091/\");\n",
    "\n",
    "robotName      = \"basicrobot\"  \n",
    "\n",
    "hostAdress     = 'localhost'  ### '192.168.1.132'\n",
    "port           = 8091\n",
    "\n",
    "forwardMsg = \"{\\\"robotmove\\\":\\\"moveForward\\\", \\\"time\\\":\\\"1000\\\"}\"\n",
    "\n",
    "\n",
    "msgTemplate   = \"msg(cmd,dispatch,gui23xyz9526,\"+ robotName +\",cmd(CMDVAL),1)\"\n",
    "\n",
    "reqTemplate   = \"msg(doplan,request,gui23xyz9526,\"+ robotName +\",doplan( wwww, 330 ),1)\"\n",
    "\n",
    "evTemplate    = \"msg(alarm,event,gui23xyz9526,none,alarm(frompython),2)\"\n",
    "\n",
    "  \n",
    "### https://github.com/websocket-client/websocket-client        \n",
    "\n",
    "def test2(): ###OK\n",
    "    ws = create_connection(\"ws://localhost:8091/\")    \n",
    "    ws.send( forwardMsg )\n",
    "    result =  ws.recv()\n",
    "    print(\"Received '%s'\" % result)\n",
    "    ws.close()    \n",
    "    \n",
    "    \n",
    "def on_message(ws, message):\n",
    "    print(message)\n",
    "\n",
    "def on_error(ws, error):\n",
    "    print(error)\n",
    "\n",
    "def on_close(ws, close_status_code, close_msg):\n",
    "    print(\"### closed ###\")\n",
    "\n",
    "def on_open(ws):\n",
    "    print(\"Opened connection\")     \n",
    "    ws.send( forwardMsg )\n",
    "    \n",
    "##################################################\n",
    "print(\"STARTING ... \")\n",
    "##connect(port)\n",
    "test2()\n",
    "\n",
    "#console()\n",
    "#forward(msgTemplate)\n",
    "#request(reqTemplate)"
   ]
  },
  {
   "cell_type": "code",
   "execution_count": null,
   "metadata": {},
   "outputs": [],
   "source": []
  }
 ],
 "metadata": {
  "kernelspec": {
   "display_name": "Python 3 (ipykernel)",
   "language": "python",
   "name": "python3"
  },
  "language_info": {
   "codemirror_mode": {
    "name": "ipython",
    "version": 3
   },
   "file_extension": ".py",
   "mimetype": "text/x-python",
   "name": "python",
   "nbconvert_exporter": "python",
   "pygments_lexer": "ipython3",
   "version": "3.11.3"
  }
 },
 "nbformat": 4,
 "nbformat_minor": 2
}
