{
 "cells": [
  {
   "cell_type": "raw",
   "metadata": {},
   "source": [
    "## mqttReceiver.ipynb"
   ]
  },
  {
   "cell_type": "code",
   "execution_count": 2,
   "metadata": {},
   "outputs": [
    {
     "name": "stdout",
     "output_type": "stream",
     "text": [
      "connected to broker  broker.hivemq.com\n",
      "subscribing to unibo/qak/events\n",
      "collecting values; please wait ...\n",
      "bye\n"
     ]
    }
   ],
   "source": [
    "import time\n",
    "import paho.mqtt.client as paho\n",
    "#import paho.mqtt.publish as publish\n",
    "import matplotlib.pyplot as plt\n",
    "\n",
    "duration = 20\n",
    "d        = []\n",
    "brokerAddr=\"broker.hivemq.com\"  #\"mqtt.eclipseprojects.io\"  #\"broker.hivemq.com\"    \n",
    "#msg      = \"msg(sonardata,event,sonar,none,distance(10),1)\"\n",
    "\n",
    "def diagram() :\n",
    "    global d\n",
    "    plt.ylabel('sonar data')\n",
    "    plt.plot(list(d), 'ro', color='red')\n",
    "    plt.show()\n",
    "    \n",
    "def on_message(client, userdata, message) :   #define callback\n",
    "    evMsg   = str( message.payload.decode(\"utf-8\")  )\n",
    "    print(\"RECEIVED \", evMsg)\n",
    "    msgitems = evMsg.split(\",\")\n",
    "    vd = float( msgitems[4].split('(')[1].split(')')[0] )\n",
    "    ## print(\"RECEIVED distance: \", vd)\n",
    "    d.append( vd )\n",
    "    print(\"RECEIVED d=\", d, msgitems[4] )\n",
    "    diagram()\n",
    "\n",
    "\n",
    "    \n",
    "    \n",
    "client= paho.Client(\"receiver\")      \n",
    "client.on_message=on_message            # Bind function to callback\n",
    "\n",
    "client.connect(brokerAddr)              #connect\n",
    "print(\"connected to broker \", brokerAddr)\n",
    "print(\"subscribing to unibo/qak/events\")\n",
    "client.subscribe(\"unibo/qak/events\")      #subscribe\n",
    "\n",
    "\n",
    "print(\"collecting values; please wait ...\" )\n",
    "client.loop_start()             #start loop to process received messages\n",
    "time.sleep(duration)\n",
    "client.disconnect()             #disconnect\n",
    "print(\"bye\")\n",
    "client.loop_stop()              #stop loop        \n"
   ]
  },
  {
   "cell_type": "code",
   "execution_count": null,
   "metadata": {},
   "outputs": [],
   "source": []
  }
 ],
 "metadata": {
  "kernelspec": {
   "display_name": "Python 3 (ipykernel)",
   "language": "python",
   "name": "python3"
  },
  "language_info": {
   "codemirror_mode": {
    "name": "ipython",
    "version": 3
   },
   "file_extension": ".py",
   "mimetype": "text/x-python",
   "name": "python",
   "nbconvert_exporter": "python",
   "pygments_lexer": "ipython3",
   "version": "3.7.13"
  }
 },
 "nbformat": 4,
 "nbformat_minor": 2
}
