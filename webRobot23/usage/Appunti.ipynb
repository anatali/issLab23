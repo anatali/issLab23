{
 "cells": [
  {
   "cell_type": "code",
   "execution_count": null,
   "id": "02279548",
   "metadata": {},
   "outputs": [],
   "source": [
    "from platform import python_version\n",
    "print( python_version() )"
   ]
  },
  {
   "cell_type": "code",
   "execution_count": null,
   "id": "08a7977f",
   "metadata": {},
   "outputs": [],
   "source": [
    "#from websockets.sync.client import connect  \n",
    "\n",
    "# Answer: ModuleNotFoundError                       "
   ]
  },
  {
   "cell_type": "markdown",
   "id": "25fe889a",
   "metadata": {},
   "source": [
    "## Su websockets\n",
    "\n",
    "Dando da prompt il comando:\n",
    "\n",
    "python -m websockets ws://localhost:8091/\n",
    "\n",
    "\n",
    "Il comando **python -m websockets** è un modo per avviare un server WebSocket utilizzando Python. WebSocket è un protocollo di comunicazione bidirezionale basato su TCP che consente una comunicazione in tempo reale tra un server e un client. Questo comando fa parte del modulo Python chiamato \"websockets\", che fornisce un'implementazione WebSocket sia per il lato server che per il lato client.\n",
    "\n",
    "Per utilizzare il comando **python -m websockets**, devi aver già installato il modulo \"websockets\" nel tuo ambiente Python. Puoi farlo utilizzando pip, il gestore di pacchetti di Python, con il seguente comando:\n",
    "\n",
    "    pip install websockets\n",
    "\n",
    "Una volta che hai installato il modulo, puoi utilizzare il comando **python -m websockets** per avviare un server WebSocket o eseguire altre operazioni relative ai WebSocket. \n",
    "\n",
    "Ecco alcuni degli usi comuni di questo comando:\n",
    "\n",
    "- Avviare un server WebSocket: Puoi avviare un server WebSocket specificando un modulo Python che    definisce il comportamento del server. Ad esempio, se hai un modulo chiamato \"my_websocket_server.py\" che contiene il codice per il tuo server WebSocket, puoi eseguirlo con il seguente comando:\n",
    "\n",
    "\n",
    "      python -m websockets.server my_websocket_server\n",
    "  \n",
    "    Questo avvierà il server WebSocket utilizzando il modulo \"my_websocket_server.py\" come base.\n",
    "\n",
    "- Eseguire un client WebSocket: Puoi anche utilizzare il comando per eseguire un client WebSocket. Ad esempio:\n",
    "\n",
    "      python -m websockets.client ws://example.com\n",
    "  \n",
    "    Questo eseguirà un client WebSocket che si connetterà al server WebSocket all'indirizzo \"ws://example.com\".\n",
    "\n",
    "- Eseguire altre operazioni WebSocket: Il modulo \"websockets\" fornisce una varietà di funzionalità per lavorare con WebSocket. Puoi eseguire comandi come \"websockets.ping\" per inviare un messaggio di ping o \"websockets.inspect\" per ispezionare la comunicazione WebSocket.\n",
    "\n",
    "In generale, il comando **python -m websockets** è uno strumento utile per gestire le connessioni WebSocket utilizzando Python. La sua funzionalità esatta dipenderà dal contesto in cui viene utilizzato e dalle opzioni specifiche passate al comando.\n",
    "\n",
    "\n",
    "\n",
    "\n",
    "\n",
    "\n",
    "\n",
    "\n",
    "\n",
    "\n",
    "\n",
    "- si ricevono tutti i dati emessi dal virtualrobot sulla websocket 8091\n",
    "- si può inviare il comando\n",
    "\n",
    "  send( \"{\\\"robotmove\\\":\\\"moveForward\\\", \\\"time\\\":\\\"1000\\\"}\" )\n",
    "  send( \"{\\\"robotmove\\\":\\\"moveForward\\\", \\\"time\\\":\\\"1000\\\"}\" )\n",
    "  "
   ]
  },
  {
   "cell_type": "code",
   "execution_count": null,
   "id": "94f7973a",
   "metadata": {},
   "outputs": [],
   "source": []
  }
 ],
 "metadata": {
  "kernelspec": {
   "display_name": "Python 3 (ipykernel)",
   "language": "python",
   "name": "python3"
  },
  "language_info": {
   "codemirror_mode": {
    "name": "ipython",
    "version": 3
   },
   "file_extension": ".py",
   "mimetype": "text/x-python",
   "name": "python",
   "nbconvert_exporter": "python",
   "pygments_lexer": "ipython3",
   "version": "3.11.3"
  }
 },
 "nbformat": 4,
 "nbformat_minor": 5
}
