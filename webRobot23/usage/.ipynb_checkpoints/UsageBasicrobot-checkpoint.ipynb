{
 "cells": [
  {
   "cell_type": "markdown",
   "metadata": {
    "slideshow": {
     "slide_type": "subslide"
    }
   },
   "source": [
    "# Using the basicrobot \n",
    "\n",
    "We interact with the basicrobot activad by calling webbasicrobot23.yaml "
   ]
  },
  {
   "cell_type": "code",
   "execution_count": 5,
   "metadata": {},
   "outputs": [
    {
     "name": "stdout",
     "output_type": "stream",
     "text": [
      "STARTING ... \n",
      "CONNECTED WITH  ('192.168.1.132', 8020)\n",
      "request  msg(doplan,request,gui23xyz9526,basicrobot,doplan( wwww, 330 ),1)\n",
      "forward  msg(alarm,event,gui23xyz9526,none,alarm(frompython),2)\n",
      "handleAnswer \n",
      "final reply= msg(doplanfailed,reply,planexec,gui23xyz9526,doplanfailed(w),40)\n",
      "\n"
     ]
    }
   ],
   "source": [
    "##############################################################\n",
    "# forward       : sends a diapatch command in output\n",
    "##############################################################\n",
    "import socket\n",
    "import time\n",
    "\n",
    "robotName      = \"basicrobot\" # \"robotappl0 \" robotadapter | basicrobot\n",
    "\n",
    "hostAdress     = '192.168.1.132'\n",
    "port           = 8020\n",
    "\n",
    "msgTemplate   = \"msg(cmd,dispatch,gui23xyz9526,\"+ robotName +\",cmd(CMDVAL),1)\"\n",
    "\n",
    "reqTemplate   = \"msg(doplan,request,gui23xyz9526,\"+ robotName +\",doplan( wwww, 330 ),1)\"\n",
    "\n",
    "evTemplate    = \"msg(alarm,event,gui23xyz9526,none,alarm(frompython),2)\"\n",
    "\n",
    "sock          = socket.socket(socket.AF_INET, socket.SOCK_STREAM)\n",
    "\n",
    "def connect(port) :\n",
    "    server_address = (hostAdress, port)\n",
    "    sock.connect(server_address)    \n",
    "    print(\"CONNECTED WITH \", server_address)\n",
    "\n",
    "def terminate() :\n",
    "    sock.close()    #qak infrastr receives a msg null\n",
    "    print(\"BYE\")\n",
    "\n",
    "def forward( message ) :\n",
    "    print(\"forward \", message)\n",
    "    msg = message + \"\\n\"\n",
    "    byt=msg.encode()    #required in Python3\n",
    "    sock.send(byt)\n",
    "\n",
    "def request( message ) :\n",
    "    print(\"request \", message)\n",
    "    msg = message + \"\\n\"\n",
    "    byt=msg.encode()    #required in Python3\n",
    "    sock.send(byt)\n",
    "    generateAlarn()\n",
    "    handleAnswer()\n",
    "\n",
    "def generateAlarn():\n",
    "    time.sleep(1.5)   ##after 1.5 sec ...\n",
    "    forward(evTemplate)\n",
    "    \n",
    "def handleAnswer() :\n",
    "    print(\"handleAnswer \" )\n",
    "    while True:  ##client wants to maintain the connection\n",
    "        reply = ''\n",
    "        while True:\n",
    "            answer = sock.recv(50)\n",
    "            ## print(\"answer len=\", len(answer))\n",
    "            if len(answer) <= 0 :\n",
    "                break\n",
    "            reply += answer.decode(\"utf-8\")\n",
    "            ## print(\"reply=\", reply)\n",
    "            if reply.endswith(\"\\n\") :\n",
    "                break\n",
    "        print(\"final reply=\", reply)\n",
    "        break\n",
    "    \n",
    "def console() :  \n",
    "    print(\"console  STARTS :\"   )\n",
    "    cmd =  str( input() )\n",
    "    print(\"console  cmd= :\" , cmd  )\n",
    "    while( cmd != \"q\"  ) :\n",
    "        msg = msgTemplate.replace(\"CMDVAL\", cmd)\n",
    "        print( msg )\n",
    "        forward( msg )\n",
    "        cmd =  str(input())\n",
    "     \n",
    "##################################################\n",
    "print(\"STARTING ... \")\n",
    "connect(port)\n",
    "#console()\n",
    "#forward(msgTemplate)\n",
    "request(reqTemplate)"
   ]
  },
  {
   "cell_type": "code",
   "execution_count": null,
   "metadata": {},
   "outputs": [],
   "source": []
  }
 ],
 "metadata": {
  "kernelspec": {
   "display_name": "Python 3 (ipykernel)",
   "language": "python",
   "name": "python3"
  },
  "language_info": {
   "codemirror_mode": {
    "name": "ipython",
    "version": 3
   },
   "file_extension": ".py",
   "mimetype": "text/x-python",
   "name": "python",
   "nbconvert_exporter": "python",
   "pygments_lexer": "ipython3",
   "version": "3.7.13"
  }
 },
 "nbformat": 4,
 "nbformat_minor": 2
}
