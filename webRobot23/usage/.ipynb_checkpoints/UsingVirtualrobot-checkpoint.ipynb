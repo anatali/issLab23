{
 "cells": [
  {
   "cell_type": "markdown",
   "metadata": {
    "slideshow": {
     "slide_type": "subslide"
    }
   },
   "source": [
    "# Using the virtualrobot \n",
    "\n",
    "We interact with the virtualcrobot activad by calling webbasicrobot23.yaml "
   ]
  },
  {
   "cell_type": "code",
   "execution_count": null,
   "metadata": {},
   "outputs": [],
   "source": [
    "python3 --version"
   ]
  },
  {
   "cell_type": "code",
   "execution_count": 7,
   "metadata": {},
   "outputs": [
    {
     "name": "stdout",
     "output_type": "stream",
     "text": [
      "STARTING ... \n"
     ]
    },
    {
     "ename": "NameError",
     "evalue": "name 'connect' is not defined",
     "output_type": "error",
     "traceback": [
      "\u001b[1;31m---------------------------------------------------------------------------\u001b[0m",
      "\u001b[1;31mNameError\u001b[0m                                 Traceback (most recent call last)",
      "Cell \u001b[1;32mIn[7], line 63\u001b[0m\n\u001b[0;32m     61\u001b[0m \u001b[38;5;28mprint\u001b[39m(\u001b[38;5;124m\"\u001b[39m\u001b[38;5;124mSTARTING ... \u001b[39m\u001b[38;5;124m\"\u001b[39m)\n\u001b[0;32m     62\u001b[0m \u001b[38;5;66;03m##connect(port)\u001b[39;00m\n\u001b[1;32m---> 63\u001b[0m test()\n",
      "Cell \u001b[1;32mIn[7], line 31\u001b[0m, in \u001b[0;36mtest\u001b[1;34m()\u001b[0m\n\u001b[0;32m     30\u001b[0m \u001b[38;5;28;01mdef\u001b[39;00m \u001b[38;5;21mtest\u001b[39m():\n\u001b[1;32m---> 31\u001b[0m     \u001b[38;5;28;01mwith\u001b[39;00m connect( \u001b[38;5;124m\"\u001b[39m\u001b[38;5;124mws://localhost:8091/\u001b[39m\u001b[38;5;124m\"\u001b[39m ) \u001b[38;5;28;01mas\u001b[39;00m websocket:\n\u001b[0;32m     32\u001b[0m         websocket\u001b[38;5;241m.\u001b[39msend( forwardMsg )\n\u001b[0;32m     33\u001b[0m         message \u001b[38;5;241m=\u001b[39m websocket\u001b[38;5;241m.\u001b[39mrecv()\n",
      "\u001b[1;31mNameError\u001b[0m: name 'connect' is not defined"
     ]
    }
   ],
   "source": [
    "##############################################################\n",
    "# conda install -c conda-forge websockets (done in base)\n",
    "##############################################################\n",
    " \n",
    "import websocket\n",
    "from websocket import create_connection\n",
    " \n",
    "\n",
    "#from websockets.sync.client import connect\n",
    "\n",
    "### websocket = new WebSocket(\"ws://localhost:8091/\");\n",
    "\n",
    "robotName      = \"basicrobot\"  \n",
    "\n",
    "hostAdress     = '192.168.1.132'\n",
    "port           = 8091\n",
    "\n",
    "forwardMsg = \"{\\\"robotmove\\\":\\\"moveForward\\\", \\\"time\\\":\\\"1000\\\"}\"\n",
    "\n",
    "\n",
    "msgTemplate   = \"msg(cmd,dispatch,gui23xyz9526,\"+ robotName +\",cmd(CMDVAL),1)\"\n",
    "\n",
    "reqTemplate   = \"msg(doplan,request,gui23xyz9526,\"+ robotName +\",doplan( wwww, 330 ),1)\"\n",
    "\n",
    "evTemplate    = \"msg(alarm,event,gui23xyz9526,none,alarm(frompython),2)\"\n",
    "\n",
    "  \n",
    "### https://github.com/websocket-client/websocket-client        \n",
    "\n",
    "def test2(): ###OK\n",
    "    ws = create_connection(\"ws://localhost:8091/\")    \n",
    "    ws.send( forwardMsg )\n",
    "    result =  ws.recv()\n",
    "    print(\"Received '%s'\" % result)\n",
    "    ws.close()    \n",
    "    \n",
    "    \n",
    "def on_message(ws, message):\n",
    "    print(message)\n",
    "\n",
    "def on_error(ws, error):\n",
    "    print(error)\n",
    "\n",
    "def on_close(ws, close_status_code, close_msg):\n",
    "    print(\"### closed ###\")\n",
    "\n",
    "def on_open(ws):\n",
    "    print(\"Opened connection\")     \n",
    "    ws.send( forwardMsg )\n",
    "    \n",
    "##################################################\n",
    "print(\"STARTING ... \")\n",
    "##connect(port)\n",
    "test()\n",
    "\n",
    "#console()\n",
    "#forward(msgTemplate)\n",
    "#request(reqTemplate)"
   ]
  },
  {
   "cell_type": "code",
   "execution_count": null,
   "metadata": {},
   "outputs": [],
   "source": []
  }
 ],
 "metadata": {
  "kernelspec": {
   "display_name": "Python 3 (ipykernel)",
   "language": "python",
   "name": "python3"
  },
  "language_info": {
   "codemirror_mode": {
    "name": "ipython",
    "version": 3
   },
   "file_extension": ".py",
   "mimetype": "text/x-python",
   "name": "python",
   "nbconvert_exporter": "python",
   "pygments_lexer": "ipython3",
   "version": "3.11.3"
  }
 },
 "nbformat": 4,
 "nbformat_minor": 2
}
