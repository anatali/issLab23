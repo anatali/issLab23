{
 "cells": [
  {
   "cell_type": "code",
   "execution_count": null,
   "id": "02279548",
   "metadata": {},
   "outputs": [],
   "source": [
    "from platform import python_version\n",
    "print( python_version() )"
   ]
  },
  {
   "cell_type": "code",
   "execution_count": null,
   "id": "08a7977f",
   "metadata": {},
   "outputs": [],
   "source": [
    "# from websockets.sync.client import connect  #ModuleNotFoundError                       "
   ]
  },
  {
   "cell_type": "markdown",
   "id": "c355c8f4",
   "metadata": {},
   "source": [
    "## Su websockets\n",
    "\n",
    "Dando da prompt il comdando:\n",
    "\n",
    "python -m websockets ws://localhost:8091/\n",
    "\n",
    "- si ricevono tutti i dati emessi dal virtualrobot sulla websocket 8091\n",
    "- si può inviare il comando\n",
    "\n",
    "  "
   ]
  },
  {
   "cell_type": "code",
   "execution_count": null,
   "id": "91efda7e",
   "metadata": {},
   "outputs": [],
   "source": []
  }
 ],
 "metadata": {
  "kernelspec": {
   "display_name": "Python 3 (ipykernel)",
   "language": "python",
   "name": "python3"
  },
  "language_info": {
   "codemirror_mode": {
    "name": "ipython",
    "version": 3
   },
   "file_extension": ".py",
   "mimetype": "text/x-python",
   "name": "python",
   "nbconvert_exporter": "python",
   "pygments_lexer": "ipython3",
   "version": "3.11.3"
  }
 },
 "nbformat": 4,
 "nbformat_minor": 5
}
